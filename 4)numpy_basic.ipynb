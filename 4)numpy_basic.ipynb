{
 "cells": [
  {
   "cell_type": "markdown",
   "metadata": {},
   "source": [
    "# 05. 주요 패키지 실습 (Numpy)\n",
    "+ 스칼라, 벡터, 행렬\n",
    "+ Array 생성\n",
    "+ Array 인덱싱 (접근, 조회, 슬라이싱) 방법\n",
    "+ Numpy 자료형 및 연산\n",
    "+ Numpy 상태 확인\n",
    "+ Numpy 배열 변환\n",
    "+ Numpy 주요 특징\n",
    "+ Numpy 활용"
   ]
  },
  {
   "cell_type": "markdown",
   "metadata": {},
   "source": [
    "### Scalar, Vector, Matrix\n",
    "\n",
    "<center><img src='./figures/scalar_tensor.png'></center>\n",
    "\n",
    "+ Scalar\n",
    "    + 스칼라란 크기와 방향을 가지는 벡터에 대비하는 개념으로, 크기만 있고 방향을 가지지 않는 양을 말한다. 예를 들면 속도가 방향도 포함한 벡터인데 비해, 그 절댓값인 속력은 방향을 가지지 않는 스칼라이다. 바꾸어 말하면, 스칼라는 벡터를 정의하기 위한 필수요소이기도 하다. ([위키피디아](https://bit.ly/2STBaRL))\n",
    "    + 간략히 말하면 방향성을 가지고 있지 않는 크기를 말합니다\n",
    "    + 좀 더 쉽게 이야기 하면 크기를 나타내는 숫자 하나라고 생각하시면 됩니다.\n",
    "    + 예를 들면 너네 집은 얼마나 머니? 라고 했을 때 **대답하는 숫자(e.g., 3KM)** 정도로 이해하시면 됩니다. \n",
    "    + 전산학 쪽으로 설명을 드리면, int, char, float 등의 기본 데이터 타입의 변수라고 생각하시면 됩니다.\n",
    "    <br/><br/>\n",
    "+ Vector\n",
    "     + 벡터(vector)는 크기 만으로 나타낼 수 있는 스칼라(scalar)와 달리 방향과 크기를 사용하여 나타낼 수 있다. 일상적으로 사용하는 벡터는 유향선분(방향이 있는 선분 즉, 화살표)를 써서 표현할 수 있다.([위키피디아](https://bit.ly/2ES3Kht))\n",
    "     + 스칼라와 달리, 방향성을 가지고 있습니다.\n",
    "     + 역시 예를 들면 너네 집 가려면 어떻게 해야 해? 라고 했을 때 나오는 대답이라고 생각하시면 됩니다.\n",
    "         + 위쪽의 스칼라의 예시처럼 3KM라고 하면 정보량이 부족하죠... **여기 기준 북쪽으로 3KM**라고 하면 방향성과 함께 크기가 나오게 됩니다. 이게 벡터입니다.\n",
    "         + 스칼라의 집합 정도로 보시면 됩니다.\n",
    "     + 전산학 쪽으로 설명을 드리면, 1차 Array 또는 list라고 생각하시면 됩니다.\n",
    "     <br/><br/>\n",
    "+ Matrix\n",
    "     + 수학에서, 행렬(行列, matrix)은 수나 기호, 수식 등을 네모꼴로 배열한 것으로, 괄호로 묶어 표시한다. ([위키피디아](https://bit.ly/2Xe6EFK))\n",
    "     + 벡터들의 집합이라고 생각하면 쉽습니다.\n",
    "     + 후에 선형 연립 방정식의 계산을 쉽게 하기 위해 매트릭스 연산을 이용합니다"
   ]
  },
  {
   "cell_type": "markdown",
   "metadata": {},
   "source": [
    "### Numpy\n",
    "+ 파이썬 기반 데이터 분석 환경에서 NumPy는 **행렬 연산을 위한 핵심 라이브러리**입니다. \n",
    "    + NumPy는 “Numerical Python“의 약자로 대규모 다차원 배열과 행렬 연산에 필요한 다양한 함수를 제공합니다. \n",
    "    + 특히 메모리 버퍼에 배열 데이터를 저장하고 처리하는 효율적인 인터페이스를 제공합니다. \n",
    "    + 파이썬 list 객체를 개선한 NumPy의 ndarray 객체를 사용하면 더 많은 데이터를 더 빠르게 처리할 수 있습니다."
   ]
  },
  {
   "cell_type": "markdown",
   "metadata": {},
   "source": [
    "## 1. Array 생성"
   ]
  },
  {
   "cell_type": "markdown",
   "metadata": {},
   "source": [
    "+ numpy 배열(Array)이란\n",
    "    + 동일한 데이터 타입들의 집합\n",
    "    + 일반 데이터 구조에서의 배열을 생각하면 됩니다.\n",
    "    + 단, 해당 배열을 이용하여 선형대수적 계산에 이용할 수 있습니다.\n",
    "    + python의 list 데이터 타입과 유사하지만, 상기의 목적과 같은 경우 더욱 빠른 계산속도를 보여 줍니다."
   ]
  },
  {
   "cell_type": "markdown",
   "metadata": {},
   "source": [
    "### 1.1 1차원 Array 생성"
   ]
  },
  {
   "cell_type": "code",
   "execution_count": null,
   "metadata": {},
   "outputs": [],
   "source": [
    "import numpy as np\n",
    "\n",
    "print (\"\\n1차원 배열\")\n",
    "arr_rank1 = np.array([1,2,3])\n",
    "print(arr_rank1)\n",
    "print (arr_rank1.shape) # 배열의 모양 출력\n",
    "print (arr_rank1[0]) # 첫번째 원소 값 접근\n",
    "print (arr_rank1[1]) # 두번째 원소 값 접근"
   ]
  },
  {
   "cell_type": "code",
   "execution_count": null,
   "metadata": {},
   "outputs": [],
   "source": [
    "import numpy as np\n",
    "arr_rank1 = np.array([1, 2, 3])"
   ]
  },
  {
   "cell_type": "code",
   "execution_count": null,
   "metadata": {},
   "outputs": [],
   "source": [
    "print(arr_rank1)"
   ]
  },
  {
   "cell_type": "code",
   "execution_count": null,
   "metadata": {},
   "outputs": [],
   "source": [
    "print(arr_rank1.shape)"
   ]
  },
  {
   "cell_type": "code",
   "execution_count": null,
   "metadata": {},
   "outputs": [],
   "source": [
    "print(arr_rank1[2])"
   ]
  },
  {
   "cell_type": "code",
   "execution_count": null,
   "metadata": {},
   "outputs": [],
   "source": []
  },
  {
   "cell_type": "code",
   "execution_count": null,
   "metadata": {},
   "outputs": [],
   "source": [
    "a = np.array([[1,2,3],[4,5,6],[7,8,9]])"
   ]
  },
  {
   "cell_type": "code",
   "execution_count": null,
   "metadata": {},
   "outputs": [],
   "source": [
    "a = np.array([[1,2,3],[4,5,6],[7,8,9]])"
   ]
  },
  {
   "cell_type": "code",
   "execution_count": null,
   "metadata": {},
   "outputs": [],
   "source": [
    "a[1,:]"
   ]
  },
  {
   "cell_type": "code",
   "execution_count": null,
   "metadata": {},
   "outputs": [],
   "source": [
    "a.shape"
   ]
  },
  {
   "cell_type": "code",
   "execution_count": null,
   "metadata": {},
   "outputs": [],
   "source": [
    "b = np.array([[1,1,1],[2,2,2]])"
   ]
  },
  {
   "cell_type": "code",
   "execution_count": null,
   "metadata": {},
   "outputs": [],
   "source": [
    "a.shape"
   ]
  },
  {
   "cell_type": "code",
   "execution_count": null,
   "metadata": {},
   "outputs": [],
   "source": [
    "b.shape"
   ]
  },
  {
   "cell_type": "code",
   "execution_count": null,
   "metadata": {},
   "outputs": [],
   "source": [
    "b.T.shape"
   ]
  },
  {
   "cell_type": "code",
   "execution_count": null,
   "metadata": {},
   "outputs": [],
   "source": [
    "np.matmul(a,b.T)"
   ]
  },
  {
   "cell_type": "code",
   "execution_count": null,
   "metadata": {},
   "outputs": [],
   "source": [
    "a @ b.T"
   ]
  },
  {
   "cell_type": "markdown",
   "metadata": {},
   "source": [
    "### 1.1.2 2차원 배열 생성\n",
    "![numpy_array.PNG](./figures/numpy_array.PNG)"
   ]
  },
  {
   "cell_type": "code",
   "execution_count": null,
   "metadata": {},
   "outputs": [],
   "source": [
    "#2차원 배열 생성\n",
    "\n",
    "import numpy as np\n",
    "\n",
    "print (\"\\n2차원 배열 - 행벡터 생성\")\n",
    "arr_rank2 = np.array([[1,2,3]]) # 크기가 (1,3)인 행벡터\n",
    "print (arr_rank2.shape)\n",
    "print (arr_rank2)\n",
    "print (arr_rank2[0,2])\n",
    "\n",
    "print (\"\\n2차원 배열 - 열벨터 생성\")\n",
    "arr_rank2 = np.array([[1],[2],[3]]) # 크기가 (3,1)인 열벡터\n",
    "print (arr_rank2.shape)\n",
    "print (arr_rank2)\n",
    "print (arr_rank2[1,0])\n",
    "\n",
    "print (\"\\n2차원 배열\")\n",
    "arr_rank2 = np.array([[1,2],[3,4],[5,6],[7,8]])  # (4, 2)\n",
    "print (arr_rank2.shape)\n",
    "print (arr_rank2)"
   ]
  },
  {
   "cell_type": "markdown",
   "metadata": {},
   "source": [
    "### 1.1.3 함수를 통한 배열 생성\n",
    "+ zeros\n",
    "    + 지정된 shape의 배열을 생성하고, 모든 요소를 0으로 초기화 합니다."
   ]
  },
  {
   "cell_type": "code",
   "execution_count": null,
   "metadata": {},
   "outputs": [],
   "source": [
    "#함수를 통한 numpy 배열 생성 \n",
    "import numpy as np\n",
    "\n",
    "print (\"zeros : 모든 값이 0인 배열 생성\")\n",
    "arr = np.zeros((3,4)) # 모든 값이 0인 배열 생성\n",
    "print (arr)"
   ]
  },
  {
   "cell_type": "code",
   "execution_count": null,
   "metadata": {},
   "outputs": [],
   "source": [
    "np.zeros?"
   ]
  },
  {
   "cell_type": "code",
   "execution_count": null,
   "metadata": {},
   "outputs": [],
   "source": [
    "arr = np.zeros((10,20), dtype=np.int)\n",
    "arr"
   ]
  },
  {
   "cell_type": "markdown",
   "metadata": {},
   "source": [
    "+ ones\n",
    "    + 지정된 shape의 배열을 생성하고, 모든 요소를 1로 초기화 합니다"
   ]
  },
  {
   "cell_type": "code",
   "execution_count": null,
   "metadata": {},
   "outputs": [],
   "source": [
    "import numpy as np\n",
    "\n",
    "print (\"\\nones : 모든 값이 1인 배열 생성\")\n",
    "arr = np.ones((2,3)) #모든 값이 1인 배열 생성\n",
    "print (arr)"
   ]
  },
  {
   "cell_type": "markdown",
   "metadata": {},
   "source": [
    "+ full\n",
    "    + 지정된 shape의 배열을 생성하고, 모든 요소를 지정한 특정 값으로 초기화 합니다"
   ]
  },
  {
   "cell_type": "code",
   "execution_count": null,
   "metadata": {},
   "outputs": [],
   "source": [
    "import numpy as np\n",
    "\n",
    "print (\"\\nfull : 모든 값이 특정 상수인 배열 생성\")\n",
    "arr = np.full((5,2),5.) # 모든 값이 특정 상수인 배열 생성\n",
    "print (arr)"
   ]
  },
  {
   "cell_type": "code",
   "execution_count": null,
   "metadata": {},
   "outputs": [],
   "source": [
    "np.full((3,1), 9)"
   ]
  },
  {
   "cell_type": "markdown",
   "metadata": {},
   "source": [
    "+ eye\n",
    "    + 지정된 shape의 단위 행렬 배열을 생성합니다"
   ]
  },
  {
   "cell_type": "code",
   "execution_count": null,
   "metadata": {},
   "outputs": [],
   "source": [
    "import numpy as np\n",
    "\n",
    "print (\"\\neye : n by n 단위행렬(=항등행렬, Identify Matrix) 생성\")\n",
    "arr = np.eye(10) # n by n 단위행렬(=항등행렬, Identify Matrix) 생성\n",
    "print (arr)"
   ]
  },
  {
   "cell_type": "markdown",
   "metadata": {},
   "source": [
    "+ like\n",
    "    + 지정된 배열과 shape이 같은 배열을 생성합니다."
   ]
  },
  {
   "cell_type": "code",
   "execution_count": null,
   "metadata": {},
   "outputs": [],
   "source": [
    "import numpy as np\n",
    "\n",
    "print (\"\\nlike : shape이 같은 배열 생성\")\n",
    "arr = np.eye(3) # n by n 단위행렬 생성\n",
    "arr1 = np.zeros_like(arr)\n",
    "arr2 = np.ones_like(arr)\n",
    "arr3 = np.full_like(arr,3)\n",
    "print ('\\n arr:\\n')\n",
    "print(arr)\n",
    "print('\\n zeros_like: arr와 같은 shape의 zeros 배열 생성\\n')\n",
    "print(arr1)\n",
    "print('\\n ones_like: arr와 같은 shape의 ones 배열 생성\\n')\n",
    "print(arr2)\n",
    "print('\\n full_like: arr와 같은 shape의 full 배열 생성\\n')\n",
    "print(arr3)"
   ]
  },
  {
   "cell_type": "markdown",
   "metadata": {},
   "source": [
    "+ random\n",
    "    + 지정된 shape의 배열을 생성하고, 모든 요소를 난수로 초기화 합니다.\n",
    "    + 관련 메소드 \n",
    "        + np.random.normal\n",
    "        + np.random.rand\n",
    "        + np.random.randn\n",
    "        + np.random.randint\n",
    "        + np.random.random"
   ]
  },
  {
   "cell_type": "code",
   "execution_count": null,
   "metadata": {},
   "outputs": [],
   "source": [
    "import numpy as np\n",
    "\n",
    "print (\"\\n임의의 값으로 채워진 n by m 배열 생성\")\n",
    "arr = np.random.random((2,3)) # 임의의 값으로 채워진 n by m 배열 생성\n",
    "print (arr)"
   ]
  },
  {
   "cell_type": "markdown",
   "metadata": {},
   "source": [
    "+ np.random.seed\n",
    "    + random의 seed값을 줌으로 써 재연가능하게 만듭니다"
   ]
  },
  {
   "cell_type": "markdown",
   "metadata": {},
   "source": [
    "## 2. Array 인덱싱 (접근, 조회, 슬라이싱) 방법 "
   ]
  },
  {
   "cell_type": "markdown",
   "metadata": {},
   "source": [
    "### 2.1. 범위 지정을 통한 조회"
   ]
  },
  {
   "cell_type": "code",
   "execution_count": null,
   "metadata": {},
   "outputs": [],
   "source": [
    "#접근방법 : 배열명[행 범위 ,열 범위]\n",
    "import numpy as np\n",
    "\n",
    "arr = np.array([[1,2,3,4],[5,6,7,8],[9,10,11,12]]) # 3 by 4 배열 생성\n",
    "# arr = np.random.random((3,4)) # 임의의 수로 배열 3 by 4 배열 생성\n",
    "\n",
    "print (\"3 by 4 배열 생성\")\n",
    "print (arr)\n",
    "\n",
    "#특정 행 조회\n",
    "print (\"\\n특정 행 조회\")\n",
    "print (arr[0,:])\n",
    "print (arr[1,:])\n",
    "print (arr[2,:])\n",
    "\n",
    "#특정 열 조회\n",
    "print (\"\\n특정 열 조회\")\n",
    "print (arr[:,0])\n",
    "print (arr[:,1])\n",
    "print (arr[:,2])\n",
    "print (arr[:,3])\n",
    "           \n",
    "#특정 행열 조회\n",
    "print (\"\\n특정 행렬 조회\")\n",
    "print (arr[0:2,1:3])\n"
   ]
  },
  {
   "cell_type": "markdown",
   "metadata": {},
   "source": [
    "### 2.2 조건식을 이용한 배열 인덱싱"
   ]
  },
  {
   "cell_type": "code",
   "execution_count": null,
   "metadata": {},
   "outputs": [],
   "source": [
    "#정수 배열 인덱싱\n",
    "\n",
    "import numpy as np\n",
    "print (\"3 by 2 배열 생성\")\n",
    "arr = np.array([[1,2], [3, 4], [5, 6]])\n",
    "print (arr)\n",
    "\n",
    "print (\"\\n정수 배열 인덱싱\")\n",
    "print (arr[[0, 1, 2], [0, 1, 0]])  # a[[0,1,2],[0,1,0]] == a[0,0], a[1,1], a[2,0]"
   ]
  },
  {
   "cell_type": "code",
   "execution_count": null,
   "metadata": {},
   "outputs": [],
   "source": [
    "import numpy as np\n",
    "\n",
    "#정수 배열 인덱싱을 통한 특정 원소 값 변경\n",
    "print (\"\\n정수 배열 인덱싱을 통한 특정 원소 값 변경\")\n",
    "print (\"4 by 3 행렬 생성\")\n",
    "arr = np.array([[1,2,3], [4,5,6], [7,8,9], [10, 11, 12]])\n",
    "print (arr)\n",
    "\n",
    "# 접근 할 배열의 인덱스 생성\n",
    "print ('\\n접근 할 배열의 인덱스 생성')\n",
    "index = np.array([0,2,0,1])\n",
    "print (index)\n",
    "\n",
    "print ('\\nindex를 통한 arr 배열 요소 접근')\n",
    "print (arr[np.arange(4),index]) # == arr[0,0], arr[1,2], arr[2,0], arr[3,1]\n",
    "\n",
    "print(\"\\narr 배열의 요소 값 변경\")\n",
    "arr[np.arange(4),index] +=20\n",
    "print (arr)"
   ]
  },
  {
   "cell_type": "markdown",
   "metadata": {},
   "source": [
    "### 2.3 boolearn 배열 인덱싱"
   ]
  },
  {
   "cell_type": "code",
   "execution_count": null,
   "metadata": {},
   "outputs": [],
   "source": [
    "import numpy as np\n",
    "\n",
    "#3 by 4 행렬 생성\n",
    "print (\"3 by 4 행렬 생성\")\n",
    "arr = np.random.random((3,4))\n",
    "print (arr)\n",
    "\n",
    "# 원소 값의 크기가 0.5 이상인 원소 만 조회\n",
    "print (\"\\n원소 값의 크기가 0.5 이상인 원소 만 조회\")\n",
    "index = arr > 0.5\n",
    "print (index)\n",
    "print (arr[index])\n",
    "\n",
    "#원소 값의 크기가 0.5 이상인 경우 0으로 전환\n",
    "print (\"\\n원소 값의 크기가 0.5 이상인 경우 0으로 전환\")\n",
    "arr[arr > 0.5] = 0\n",
    "print (arr)"
   ]
  },
  {
   "cell_type": "markdown",
   "metadata": {},
   "source": [
    "## 3. numpy 자료형 및 연산\n",
    "+ numpy의 원소는 동일한 자료형을 가집니다\n",
    "+ numpy는 배열이 생성될 때 스스로 자료형을 구축하며 명시적으로 특정 자료형을 지정 할 수도 있습니다"
   ]
  },
  {
   "cell_type": "code",
   "execution_count": null,
   "metadata": {},
   "outputs": [],
   "source": [
    "# numpy의 원소는 동일한 자료형을 가짐\n",
    "import numpy as np\n",
    "\n",
    "arr = np.array([1,2]) #자료형을 스스로 판단\n",
    "print (arr.dtype)\n",
    "\n",
    "arr = np.array([1.0, 2.0, 3.0])\n",
    "print (arr.dtype)\n",
    "\n",
    "arr = np.array([1,2,3],dtype=np.uint8) #특정한 자료형 지정\n",
    "print (arr.dtype)"
   ]
  },
  {
   "cell_type": "markdown",
   "metadata": {},
   "source": [
    "###  3.1 Array 연산"
   ]
  },
  {
   "cell_type": "markdown",
   "metadata": {},
   "source": [
    "+ 배열의 연산은 요소 별 연산입니다\n",
    "+ 사칙연산 방법\n",
    "\n",
    "<img src ='./figures/array cal.jpeg'>\n",
    "\n",
    "+ 배열 연산 방법"
   ]
  },
  {
   "cell_type": "code",
   "execution_count": null,
   "metadata": {},
   "outputs": [],
   "source": [
    "import numpy as np\n",
    "\n",
    "arr1 = np.array([[1,2],[3,4]])\n",
    "arr2 = np.array([[5,6],[7,8]])\n",
    "\n",
    "# 요소별 합\n",
    "print (\"요소별 합\")\n",
    "print (arr1 + arr2)\n",
    "print (np.add(arr1, arr2))\n",
    "\n",
    "# 요소별 차\n",
    "print (\"\\n\\n요소별 차\")\n",
    "print (arr1 - arr2)\n",
    "print (np.subtract(arr1, arr2))\n",
    "\n",
    "# 요소별 곱\n",
    "print (\"\\n\\n요소별 곱\")\n",
    "print (arr1 * arr2)\n",
    "print (np.multiply(arr1, arr2))\n",
    "\n",
    "# 요소별 나눗셈\n",
    "print (\"\\n\\n요소별 나눗셈\")\n",
    "print (arr1 / arr2)\n",
    "print (np.divide(arr1, arr2))\n",
    "\n",
    "# 요소별 제곱근\n",
    "print (\"\\n\\n요소별 제곱근\")\n",
    "print (np.sqrt(arr1))"
   ]
  },
  {
   "cell_type": "markdown",
   "metadata": {},
   "source": [
    "+ 그 외 산술적인 통계치를 계산해주는 메소드가 있습니다."
   ]
  },
  {
   "cell_type": "code",
   "execution_count": null,
   "metadata": {},
   "outputs": [],
   "source": [
    "import numpy as np\n",
    "\n",
    "arr = np.array([[1,2],[3,4]])\n",
    "print (arr)\n",
    "\n",
    "# arr 평균\n",
    "print (\"\\n\\n<평균>\")\n",
    "print (arr.mean())\n",
    "\n",
    "# arr 총합\n",
    "print (\"\\n\\n<총합>\")\n",
    "print (arr.sum())\n",
    "\n",
    "# arr 최대값\n",
    "print(\"\\n\\n<최대값>\")\n",
    "print (arr.max())\n",
    "\n",
    "# arr 최소값\n",
    "print(\"\\n\\n<최소값>\")\n",
    "print (arr.min())"
   ]
  },
  {
   "cell_type": "markdown",
   "metadata": {},
   "source": [
    "### 3.2 Array 와 Matrix의 차이점"
   ]
  },
  {
   "cell_type": "markdown",
   "metadata": {},
   "source": [
    "+ 앞서 말씀드린 것처럼 Array는 단순히 같은 자료형의 데이터를 보기 편하게 모와둔 Table이라고 봐야합니다.\n",
    "+ 반면 Matrix는 실제 수학적 행렬로써 그 연산 방법부분에서 일정 부분 Array와 차이가 있습니다.\n",
    "    + 물론 numpy에서는 Array를 Matrix처럼, Matrix를 Array 처럼 다룰 수 있도록 메소드를 제공해 줍니다.\n",
    "        + 행렬 간 곱셈을 위한 matmul, dot, @\n",
    "        + 요소 간 곱셈을 위한 multiply\n",
    "    + 가장 큰 차이 점인 두 변수 간 곱셈에 대해서 알아 보겠습니다.\n",
    "    + Array의 곱셈은 앞선 항목에서와 설명한 바와 같이 요소 간 곱입니다\n",
    "    <br/><br/>\n",
    "<center><img src='./figures/array product.png'></center>\n",
    "<br/><br/>\n",
    "    + 반면 행렬 간 곱셈은 다음과 같은 방식으로 계산 됩니다\n",
    "    <br/><br/>\n",
    "$\n",
    "\\begin{bmatrix}\n",
    "\\bbox[yellow,2pt]{a_{11}} & \\bbox[yellow,2pt]{a_{12}} & \\bbox[yellow,2pt]{a_{13}} \\\\\n",
    "a_{21} & a_{22} & a_{23} \\\\\n",
    "a_{31} & a_{32} & a_{33} \\\\\n",
    "a_{41} & a_{42} & a_{43} \\\\\n",
    "\\end{bmatrix}\n",
    "\\begin{bmatrix}\n",
    "\\bbox[yellow,2pt]{b_{11}} & b_{12} \\\\\n",
    "\\bbox[yellow,2pt]{b_{21}} & b_{22} \\\\\n",
    "\\bbox[yellow,2pt]{b_{31}} & b_{32} \\\\    \n",
    "\\end{bmatrix}\n",
    "=\n",
    "\\begin{bmatrix}\n",
    "\\bbox[yellow,2pt]{(a_{11}b_{11} + a_{12}b_{21} + a_{13}b_{31})} & (a_{11}b_{12} + a_{12}b_{22} + a_{13}b_{32}) \\\\\n",
    "(a_{21}b_{11} + a_{22}b_{21} + a_{23}b_{31}) & (a_{21}b_{12} + a_{22}b_{22} + a_{23}b_{32}) \\\\\n",
    "(a_{31}b_{11} + a_{32}b_{21} + a_{33}b_{31}) & (a_{31}b_{12} + a_{32}b_{22} + a_{33}b_{32}) \\\\\n",
    "(a_{41}b_{11} + a_{42}b_{21} + a_{43}b_{31}) & (a_{41}b_{12} + a_{42}b_{22} + a_{43}b_{32}) \\\\\n",
    "\\end{bmatrix}\n",
    "$"
   ]
  },
  {
   "cell_type": "code",
   "execution_count": null,
   "metadata": {},
   "outputs": [],
   "source": [
    "import numpy as np\n",
    "\n",
    "arr = np.array([[1,2],[3,4]])\n",
    "\n",
    "print ('Array 연산')\n",
    "print ('* 연산자 : \\n', arr*arr)\n",
    "print ('\\ndot() 함수: \\n', arr.dot(arr))\n",
    "print ('\\nmatmul() 함수: \\n', np.matmul(arr,arr))\n",
    "print ('\\n@ 연산자: \\n', arr @ arr)"
   ]
  },
  {
   "cell_type": "code",
   "execution_count": null,
   "metadata": {},
   "outputs": [],
   "source": [
    "import numpy as np\n",
    "\n",
    "mat = np.mat([[1,2],[3,4]])\n",
    "\n",
    "print ('matrix 연산')\n",
    "print ('* 연산자 : \\n', mat*mat)\n",
    "print ('\\ndot() 함수: \\n', mat.dot(mat))\n",
    "print ('\\nmultiply 연산자: \\n', np.multiply(mat,mat))"
   ]
  },
  {
   "cell_type": "markdown",
   "metadata": {},
   "source": [
    "## 4. numpy 상태 확인\n",
    "+ numpy 자체에서 제공하는 변수를 통해 배열의 상태를 검사할 수 있습니다.\n",
    "\n",
    "속성 항목 | 확인 방법 | 예시 | 결과\n",
    "-----|-----|-----|-----\n",
    "배열 형태 | np.ndarray.shape | arr.shape | (5, 2, 3)\n",
    "배열 길이 | len을 사용하여 일차원의 배열 길이 확인 | len(arr) | 5\n",
    "배열 차원 | np.ndarray.ndim | arr.ndim | 3\n",
    "배열 요소 수 | np.ndarray.size | arr.size | 30\n",
    "배열 타입 | np.ndarray.dtype | arr.dtype | dtype('float64')\n",
    "배열 타입 명 | np.ndarray.dtype.name | arr.dtype.name | float64\n",
    "배열 타입 변환 | np.ndarray.astype | arr.astype(np.int) | type casting\n"
   ]
  },
  {
   "cell_type": "code",
   "execution_count": null,
   "metadata": {},
   "outputs": [],
   "source": [
    "import numpy as np\n",
    "\n",
    "arr = np.array([[1,2,3,4],[1,2,3,4]])\n",
    "\n",
    "print (arr)\n",
    "print (\"arr 형태 : \", arr.shape)\n",
    "print (\"arr 길이 : \", len(arr))\n",
    "print (\"arr 차원 : \", arr.ndim)\n",
    "print (\"arr 요소 수 : \", arr.size)\n",
    "print (\"arr 객체에 대한 원소의 크기 : \",arr.itemsize)\n",
    "print (\"arr 배열 타입 : \", arr.dtype)\n",
    "print (\"arr 배열 변환 확인 : \", arr.astype(np.float32).dtype)\n",
    "print (\"arr 객체에 대한 원소의 크기를 16진수로 표현\", arr.data)"
   ]
  },
  {
   "cell_type": "markdown",
   "metadata": {},
   "source": [
    "## 5. numpy 배열 변환\n",
    "+ 2차원 이상의 배열을 1차원으로 변환하는 메소드\n",
    "    + flatten"
   ]
  },
  {
   "cell_type": "code",
   "execution_count": null,
   "metadata": {},
   "outputs": [],
   "source": [
    "import numpy as np\n",
    "\n",
    "print (\"\\n2차원 array\")\n",
    "arr2 = np.array([[1,2,3],[4,5,6]])\n",
    "print (arr2)\n",
    "\n",
    "# 1차원 배열로 변경\n",
    "print (\"\\n\\n1차원 배열 변경\")\n",
    "print (arr2.flatten())\n",
    "\n",
    "arr2 = np.array([[1,2,3],[4,5,6],[7,8,9]])\n",
    "print (arr2)\n",
    "\n",
    "# 1차원 배열로 변경\n",
    "print (\"\\n\\n1차원 배열 변경\")\n",
    "print (arr2.flatten())"
   ]
  },
  {
   "cell_type": "markdown",
   "metadata": {},
   "source": [
    "+ 원하는 shape의 배열로 변환하는 메소드\n",
    "    + reshape\n",
    "    + (-1,2)로 값을 줄 경우, 뒤에 있는 2열을 고정한 상태에서 행을 자동으로 변환"
   ]
  },
  {
   "cell_type": "code",
   "execution_count": null,
   "metadata": {},
   "outputs": [],
   "source": [
    "import numpy as np\n",
    "\n",
    "arr2 = np.array([[1,2,3],[4,5,6]])\n",
    "print(arr2)\n",
    "print('\\n\\narr2 객체의 shape : \\n', arr2.shape)\n",
    "print ('\\n\\narr2 객체를 (3,2)의 형태로 reshape : \\n',arr2.reshape(3,2))\n",
    "print ('\\n\\narr2 객체를 (-1,2)의 형태로 reshape했을 경우 : \\n',arr2.reshape(-1,2))"
   ]
  },
  {
   "cell_type": "markdown",
   "metadata": {},
   "source": [
    "+ 행렬 전치\n",
    "    + 선형대수학에서, 전치 행렬(轉置行列, 영어: transposed matrix)은 행과 열을 교환하여 얻는 행렬이다. 즉, 주대각선을 축으로 하는 반사 대칭을 가하여 얻는 행렬이다. 기호는 ${\\displaystyle A^{\\operatorname {T} }}, {\\displaystyle A^{\\top }}, {\\displaystyle ^{\\operatorname {t} }A}, {\\displaystyle A'}, {\\displaystyle A^{\\operatorname {tr} }}$.<br/> ([위키피디아](https://bit.ly/2tWLzSS))\n",
    "    + 쉽게 말해서 행렬의 인덱스 교환 방법\n",
    "\n",
    "\n",
    "+ 전치 방법\n",
    "    + T 사용\n",
    "    \n",
    "![transpose](./figures/Matrix_transpose.gif)"
   ]
  },
  {
   "cell_type": "code",
   "execution_count": null,
   "metadata": {},
   "outputs": [],
   "source": [
    "import numpy as np\n",
    "\n",
    "arr2 = np.array([[1, 2], [3, 4], [5, 6]])\n",
    "print('arr2: \\n', arr2)\n",
    "print('\\narr2 전치 행렬: \\n', arr2.T)"
   ]
  },
  {
   "cell_type": "markdown",
   "metadata": {},
   "source": [
    "## 6. numpy 주요특징"
   ]
  },
  {
   "cell_type": "markdown",
   "metadata": {},
   "source": [
    "### 6.1 브로딩캐스팅 (원소들끼리의 계산을 위해 동일한 모양으로 만든 후 원소별로 계산처리)\n",
    "+ 원래 덧셈과 뺄셈은 크기(차원)가 같은 두 벡터에 대해서만 할 수 있습니다. \n",
    "    + 하지만 벡터와 스칼라의 경우에는 관례적으로 다음처럼 1-벡터를 사용하여 스칼라를 벡터로 변환한 연산을 허용합니다. \n",
    "    + 이를 <font color=\"red\">브로드캐스팅(broadcasting)</font>이라고 합니다.\n",
    "    \n",
    "$$\n",
    "\\begin{bmatrix}\n",
    "10 \\\\\n",
    "11 \\\\\n",
    "12 \\\\\n",
    "\\end{bmatrix}\n",
    "- 10\n",
    "=\n",
    "\\begin{bmatrix}\n",
    "10 \\\\\n",
    "11 \\\\\n",
    "12 \\\\\n",
    "\\end{bmatrix}\n",
    "- 10\\cdot \\mathbf{1}\n",
    "=\n",
    "\\begin{bmatrix}\n",
    "10 \\\\\n",
    "11 \\\\\n",
    "12 \\\\\n",
    "\\end{bmatrix}\n",
    "-\n",
    "\\begin{bmatrix}\n",
    "10 \\\\\n",
    "10 \\\\\n",
    "10 \\\\\n",
    "\\end{bmatrix}\n",
    "$$"
   ]
  },
  {
   "cell_type": "code",
   "execution_count": null,
   "metadata": {},
   "outputs": [],
   "source": [
    "# F(화씨)를 C(섭씨)로 바꾸기\n",
    "# F = C*9/5+32\n",
    "\n",
    "import numpy as np\n",
    "\n",
    "values = [25.3,19.2,29.1,22.4]\n",
    "C = np.array(values)\n",
    "print (C)\n",
    "\n",
    "F = C*9 / 5 +32\n",
    "print (\"\\nvector * scalar broadcast: \\n\")\n",
    "print (type(F), F) #반환 되는 타입이 array"
   ]
  },
  {
   "cell_type": "markdown",
   "metadata": {},
   "source": [
    "+ 이는 **벡터 $\\times$ 스칼라** 경우만 아니라, **행렬 $\\times$ 벡터, 행렬 $\\times$ 행렬** 연산일 때도 조건부로 적용 됩니다.\n",
    "    + 해당 조건은 더하고자 하는 행렬의 행이나 열 갯수랑 하나는 동일 해야 합니다\n",
    "    \n",
    "    \n",
    "+ 브로드캐스팅 방식\n",
    "\n",
    "![broadcast](./figures/broadcast.png)"
   ]
  },
  {
   "cell_type": "code",
   "execution_count": null,
   "metadata": {},
   "outputs": [],
   "source": [
    "import numpy as np\n",
    "\n",
    "arr1 = np.array([[11,12,13],[14,15,16],[17,18,19], [20,21,22]])\n",
    "arr2 = np.array([1,2,3])\n",
    "\n",
    "print (\"\\n\\nArr1\")\n",
    "print (arr1)\n",
    "\n",
    "print (\"\\nArr2\")\n",
    "print (arr2)\n",
    "\n",
    "print(\"\\nArr1 + Arr2\")\n",
    "print (arr1+arr2)\n",
    "\n",
    "print(\"\\nArr1 * Arr2\")\n",
    "print (arr1*arr2)"
   ]
  },
  {
   "cell_type": "markdown",
   "metadata": {},
   "source": [
    "### 6.3 python list와 numpy array간의 성능 비교"
   ]
  },
  {
   "cell_type": "code",
   "execution_count": null,
   "metadata": {},
   "outputs": [],
   "source": [
    "#두 개의 리스트 or 배열의 합을 구하는 함수의 처리시간 비교\n",
    "\n",
    "import numpy as np\n",
    "import time\n",
    "\n",
    "num_elements = 10000000\n",
    "\n",
    "#파이썬 리스트의 처리시간 계산\n",
    "def python_list():\n",
    "    t = time.time()\n",
    "    X = range(num_elements)\n",
    "    Y = range(num_elements)\n",
    "    Z = []\n",
    "    \n",
    "    for i in range(num_elements):\n",
    "        Z.append(X[i]+Y[i])\n",
    "    return time.time() - t\n",
    "\n",
    "#numpy array의 처리시간 계산\n",
    "def numpy_array():\n",
    "    t = time.time()\n",
    "    X = np.arange(num_elements)\n",
    "    Y = np.arange(num_elements)\n",
    "    Z = X+Y\n",
    "    return time.time() - t\n",
    "\n",
    "print (\"파이썬 리스트 실행시간 : \",python_list())\n",
    "print (\"Numpy array 실행시간 : \",numpy_array())"
   ]
  },
  {
   "cell_type": "markdown",
   "metadata": {},
   "source": [
    "## 7. Numpy 활용\n",
    "### 가중합\n",
    "+ 가중합이란 복수의 데이터를 단순히 합하는 것이 아니라 각각수의 수에 어떤 가중치 값을 곱한 후 이 곱셈 결과들을 다시 합한 것을 의미합니다.\n",
    "+ 여러분들에게 주어진 데이터가 X = $\\begin{bmatrix} x_1, x_2, x_3, x_4 \\end{bmatrix}$ 이고, 이 각각의 데이터에 가중치 W가 W = $\\begin{bmatrix} w_1, w_2, w_3, w_4 \\end{bmatrix}$ 라고 가정해 보겠습니다.\n",
    "    + 저희가 계산해야 하는 것은 $w_1x_1 + w_2x_2 + w_3x_3 + w_4x_4 = \\sum_{i=1}^4 w_ix_i$ 의 연산입니다.\n",
    "    + 이를 코딩으로 처리하려면 어떻게 해야 할까요?"
   ]
  },
  {
   "cell_type": "code",
   "execution_count": null,
   "metadata": {},
   "outputs": [],
   "source": [
    "X = [1,2,3,4]\n",
    "W = [2,2,2,2]\n",
    "\n",
    "tmp = 0\n",
    "\n",
    "for i in range(len(X)):\n",
    "    print(X[i],'*',W[i])\n",
    "    tmp += W[i]*X[i]\n",
    "    print(tmp)\n",
    "\n",
    "print(tmp)"
   ]
  },
  {
   "cell_type": "markdown",
   "metadata": {},
   "source": [
    "+ 조금 파이썬 처럼 하면 다음과 같이도 계산 할 수 있습니다"
   ]
  },
  {
   "cell_type": "code",
   "execution_count": null,
   "metadata": {},
   "outputs": [],
   "source": [
    "tmp = 0\n",
    "for x,y in zip(X,W):\n",
    "    print(x,'*',y)\n",
    "    tmp += x*y\n",
    "print(tmp)"
   ]
  },
  {
   "cell_type": "markdown",
   "metadata": {},
   "source": [
    "+ 아니면 좀 더 파이썬스럽게 코딩 해볼까요?"
   ]
  },
  {
   "cell_type": "code",
   "execution_count": null,
   "metadata": {},
   "outputs": [],
   "source": [
    "[x*y for x,y in zip(X,W)]"
   ]
  },
  {
   "cell_type": "code",
   "execution_count": null,
   "metadata": {},
   "outputs": [],
   "source": [
    "sum([x*y for x,y in zip(X,W)])"
   ]
  },
  {
   "cell_type": "markdown",
   "metadata": {},
   "source": [
    "+ 하지만 이게 벡터가 아니라 행렬이라면 어떻게 해야 할까요?\n",
    "+ 흔히 X 데이터를 인풋 데이터라고 하는데, 데이터 분석에서는 인풋 데이터를 한개만 가지고 있진 않습니다\n",
    "    + 보통 X는 X = $\\begin{bmatrix} x_{11} & x_{12} & x_{13} \\\\ x_{21} & x_{22} & x_{23} \\\\ &\\vdots& \\\\ x_{n1} & x_{n2} & x_{n3} \\end{bmatrix}$ 의 케이스로 가지고 있습니다.\n",
    "    + 해당 케이스를 가지고 가중합을 구해보겠습니다."
   ]
  },
  {
   "cell_type": "code",
   "execution_count": null,
   "metadata": {},
   "outputs": [],
   "source": [
    "X = [[1,2,3],[4,5,6],[7,8,9]]\n",
    "W = [2,2,2]\n",
    "\n",
    "result = []\n",
    "for x,y in zip(X,W):\n",
    "    tmp = 0\n",
    "    for z in x:\n",
    "        print(z,\"*\",y)\n",
    "        tmp += z*y\n",
    "    result.append(tmp)\n",
    "print(result)"
   ]
  },
  {
   "cell_type": "code",
   "execution_count": null,
   "metadata": {},
   "outputs": [],
   "source": [
    "[sum([z*y for z in x]) for x,y in zip(X,W)]"
   ]
  },
  {
   "cell_type": "markdown",
   "metadata": {},
   "source": [
    "+ 이중 루프문 까지 가야 연산을 할 수 있습니다\n",
    "+ 하지만 이를 numpy를 이용하여 행렬 연산으로 하면 간단하게 끝납니다.\n",
    "+ 벡터 연산을 한번 살펴보겠습니다."
   ]
  },
  {
   "cell_type": "code",
   "execution_count": null,
   "metadata": {},
   "outputs": [],
   "source": [
    "import numpy as np\n",
    "\n",
    "X = [1,2,3,4]\n",
    "W = [2,2,2,2]\n",
    "\n",
    "X = np.array(X)\n",
    "W = np.array(W)\n",
    "\n",
    "print(X)\n",
    "print(W)"
   ]
  },
  {
   "cell_type": "code",
   "execution_count": null,
   "metadata": {},
   "outputs": [],
   "source": [
    "X @ W"
   ]
  },
  {
   "cell_type": "markdown",
   "metadata": {},
   "source": [
    "+ 연산 원리는 다음과 같습니다.\n",
    "\n",
    "$$\n",
    "\\begin{bmatrix}\n",
    "\\bbox[yellow,2pt]{a_{11}} & \\bbox[yellow,2pt]{a_{12}} & \\bbox[yellow,2pt]{a_{13}} & \\bbox[yellow,2pt]{a_{14}} \n",
    "\\end{bmatrix}\n",
    "\\begin{bmatrix}\n",
    "\\bbox[yellow,2pt]{b_{11}}\\\\\n",
    "\\bbox[yellow,2pt]{b_{21}}\\\\\n",
    "\\bbox[yellow,2pt]{b_{31}}\\\\    \n",
    "\\bbox[yellow,2pt]{b_{41}}\\\\    \n",
    "\\end{bmatrix}\n",
    "=\n",
    "\\begin{bmatrix}\n",
    "\\bbox[yellow,2pt]{(a_{11}b_{11} + a_{12}b_{21} + a_{13}b_{31} + a_{14}b_{41})}\n",
    "\\end{bmatrix}\n",
    "$$\n",
    "\n",
    "+ 결과적으로 루프문을 돌려서 구했던 결과와 같습니다.\n",
    "\n",
    "\n",
    "+ 이를 행렬에 대입해서 연산해보겠습니다."
   ]
  },
  {
   "cell_type": "code",
   "execution_count": null,
   "metadata": {},
   "outputs": [],
   "source": [
    "import numpy as np\n",
    "\n",
    "X = [[1,2,3],[4,5,6],[7,8,9]]\n",
    "W = [2,2,2]\n",
    "\n",
    "X = np.array(X)\n",
    "W = np.array(W)\n",
    "\n",
    "print(X)\n",
    "print()\n",
    "print(W)"
   ]
  },
  {
   "cell_type": "code",
   "execution_count": null,
   "metadata": {},
   "outputs": [],
   "source": [
    "X @ W"
   ]
  },
  {
   "cell_type": "markdown",
   "metadata": {},
   "source": [
    "+ 이를 이용하여 가중합, 가중 평균 등을 구해서 실제 데이터 분석에 사용 할 수 있습니다."
   ]
  },
  {
   "cell_type": "code",
   "execution_count": null,
   "metadata": {},
   "outputs": [],
   "source": [
    "sum(X @ W)"
   ]
  },
  {
   "cell_type": "code",
   "execution_count": null,
   "metadata": {},
   "outputs": [],
   "source": [
    "(X @ W).mean()"
   ]
  },
  {
   "cell_type": "markdown",
   "metadata": {},
   "source": [
    "+ 위와 같이 $\\hat{y} = w_1x_1 + w_2x_2 + w_3x_3 + w_4x_4 = \\sum_{i=1}^4 w_ix_i$ 의 형태를 선형 결합이라고 합니다.\n",
    "    + 위와 같은 형태를 갖춘 가장 일반적인 알고리즘이 선형회귀입니다.\n",
    "    + $\\hat{y} = Wx+b$의 형태를 갖추고 있으며 단순 선형 회귀를 나타냅니다.\n",
    "    + 저희가 위에 봤던 회귀 분석은 $\\hat{y} = w_1x_1+ w_2x_2 + b$ 의 식을 가지고 있으며 이는 다중 선형회귀라고 말합니다.\n",
    "    + 즉 각각의 변수가 y 값을 예측 하는데 얼마만큼의 w를 가지고 있는가를 찾는 분석 방법입니다.\n"
   ]
  }
 ],
 "metadata": {
  "kernelspec": {
   "display_name": "Python 3",
   "language": "python",
   "name": "python3"
  },
  "language_info": {
   "codemirror_mode": {
    "name": "ipython",
    "version": 3
   },
   "file_extension": ".py",
   "mimetype": "text/x-python",
   "name": "python",
   "nbconvert_exporter": "python",
   "pygments_lexer": "ipython3",
   "version": "3.7.9"
  }
 },
 "nbformat": 4,
 "nbformat_minor": 4
}
